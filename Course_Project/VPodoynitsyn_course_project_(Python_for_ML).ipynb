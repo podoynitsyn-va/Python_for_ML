{
 "cells": [
  {
   "cell_type": "code",
   "execution_count": 1,
   "metadata": {},
   "outputs": [],
   "source": [
    "import numpy as np\n",
    "import pandas as pd\n",
    "import math as math\n",
    "from matplotlib import pyplot as plt\n",
    "from sklearn import model_selection, preprocessing\n",
    "\n",
    "from sklearn.linear_model import LinearRegression\n",
    "from sklearn.svm import SVC\n",
    "from sklearn.preprocessing import StandardScaler\n",
    "from sklearn.ensemble import RandomForestRegressor\n",
    "from sklearn.ensemble import RandomForestClassifier\n",
    "from sklearn.model_selection import GridSearchCV\n",
    "from sklearn.model_selection import KFold\n",
    "\n",
    "from sklearn.model_selection import train_test_split, cross_val_score, cross_val_predict\n",
    "from sklearn.metrics import r2_score as r2\n",
    "from sklearn.metrics import mean_squared_error as mse\n",
    "\n",
    "import seaborn as sns\n",
    "\n",
    "%matplotlib inline"
   ]
  },
  {
   "cell_type": "markdown",
   "metadata": {},
   "source": [
    "## Исследование данных"
   ]
  },
  {
   "cell_type": "markdown",
   "metadata": {},
   "source": [
    "#### Загрузка датасетов:"
   ]
  },
  {
   "cell_type": "code",
   "execution_count": 2,
   "metadata": {},
   "outputs": [],
   "source": [
    "DATASET_PATH = 'train.csv'\n",
    "TEST_DATASET_PATH = 'test.csv'\n",
    "\n",
    "train_data=pd.read_csv(DATASET_PATH)\n",
    "test_data=pd.read_csv(TEST_DATASET_PATH)"
   ]
  },
  {
   "cell_type": "markdown",
   "metadata": {},
   "source": [
    "Посмотрим на структуру тренировочного датасета:"
   ]
  },
  {
   "cell_type": "code",
   "execution_count": 3,
   "metadata": {},
   "outputs": [
    {
     "name": "stdout",
     "output_type": "stream",
     "text": [
      "<class 'pandas.core.frame.DataFrame'>\n",
      "RangeIndex: 10000 entries, 0 to 9999\n",
      "Data columns (total 20 columns):\n",
      "Id               10000 non-null int64\n",
      "DistrictId       10000 non-null int64\n",
      "Rooms            10000 non-null float64\n",
      "Square           10000 non-null float64\n",
      "LifeSquare       7887 non-null float64\n",
      "KitchenSquare    10000 non-null float64\n",
      "Floor            10000 non-null int64\n",
      "HouseFloor       10000 non-null float64\n",
      "HouseYear        10000 non-null int64\n",
      "Ecology_1        10000 non-null float64\n",
      "Ecology_2        10000 non-null object\n",
      "Ecology_3        10000 non-null object\n",
      "Social_1         10000 non-null int64\n",
      "Social_2         10000 non-null int64\n",
      "Social_3         10000 non-null int64\n",
      "Healthcare_1     5202 non-null float64\n",
      "Helthcare_2      10000 non-null int64\n",
      "Shops_1          10000 non-null int64\n",
      "Shops_2          10000 non-null object\n",
      "Price            10000 non-null float64\n",
      "dtypes: float64(8), int64(9), object(3)\n",
      "memory usage: 1.5+ MB\n"
     ]
    }
   ],
   "source": [
    "train_data.info()"
   ]
  },
  {
   "cell_type": "markdown",
   "metadata": {
    "scrolled": true
   },
   "source": [
    "Видим, что данные составляют 10000 записей, включают в себя типы int64, float64 и object. Часть признаков присутствует не полностью, в частности, LifeSquare (жилая площадь) и HealtCare_1 (показатель охраны здоровья)"
   ]
  },
  {
   "cell_type": "markdown",
   "metadata": {},
   "source": [
    "Статистика тренировочного датасета:"
   ]
  },
  {
   "cell_type": "code",
   "execution_count": 4,
   "metadata": {},
   "outputs": [
    {
     "data": {
      "text/html": [
       "<div>\n",
       "<style scoped>\n",
       "    .dataframe tbody tr th:only-of-type {\n",
       "        vertical-align: middle;\n",
       "    }\n",
       "\n",
       "    .dataframe tbody tr th {\n",
       "        vertical-align: top;\n",
       "    }\n",
       "\n",
       "    .dataframe thead th {\n",
       "        text-align: right;\n",
       "    }\n",
       "</style>\n",
       "<table border=\"1\" class=\"dataframe\">\n",
       "  <thead>\n",
       "    <tr style=\"text-align: right;\">\n",
       "      <th></th>\n",
       "      <th>count</th>\n",
       "      <th>mean</th>\n",
       "      <th>std</th>\n",
       "      <th>min</th>\n",
       "      <th>25%</th>\n",
       "      <th>50%</th>\n",
       "      <th>75%</th>\n",
       "      <th>max</th>\n",
       "    </tr>\n",
       "  </thead>\n",
       "  <tbody>\n",
       "    <tr>\n",
       "      <th>Id</th>\n",
       "      <td>10000.0</td>\n",
       "      <td>8383.407700</td>\n",
       "      <td>4859.019020</td>\n",
       "      <td>0.000000</td>\n",
       "      <td>4169.500000</td>\n",
       "      <td>8394.500000</td>\n",
       "      <td>12592.500000</td>\n",
       "      <td>1.679800e+04</td>\n",
       "    </tr>\n",
       "    <tr>\n",
       "      <th>DistrictId</th>\n",
       "      <td>10000.0</td>\n",
       "      <td>50.400800</td>\n",
       "      <td>43.587592</td>\n",
       "      <td>0.000000</td>\n",
       "      <td>20.000000</td>\n",
       "      <td>36.000000</td>\n",
       "      <td>75.000000</td>\n",
       "      <td>2.090000e+02</td>\n",
       "    </tr>\n",
       "    <tr>\n",
       "      <th>Rooms</th>\n",
       "      <td>10000.0</td>\n",
       "      <td>1.890500</td>\n",
       "      <td>0.839512</td>\n",
       "      <td>0.000000</td>\n",
       "      <td>1.000000</td>\n",
       "      <td>2.000000</td>\n",
       "      <td>2.000000</td>\n",
       "      <td>1.900000e+01</td>\n",
       "    </tr>\n",
       "    <tr>\n",
       "      <th>Square</th>\n",
       "      <td>10000.0</td>\n",
       "      <td>56.315775</td>\n",
       "      <td>21.058732</td>\n",
       "      <td>1.136859</td>\n",
       "      <td>41.774881</td>\n",
       "      <td>52.513310</td>\n",
       "      <td>65.900625</td>\n",
       "      <td>6.410652e+02</td>\n",
       "    </tr>\n",
       "    <tr>\n",
       "      <th>LifeSquare</th>\n",
       "      <td>7887.0</td>\n",
       "      <td>37.199645</td>\n",
       "      <td>86.241209</td>\n",
       "      <td>0.370619</td>\n",
       "      <td>22.769832</td>\n",
       "      <td>32.781260</td>\n",
       "      <td>45.128803</td>\n",
       "      <td>7.480592e+03</td>\n",
       "    </tr>\n",
       "    <tr>\n",
       "      <th>KitchenSquare</th>\n",
       "      <td>10000.0</td>\n",
       "      <td>6.273300</td>\n",
       "      <td>28.560917</td>\n",
       "      <td>0.000000</td>\n",
       "      <td>1.000000</td>\n",
       "      <td>6.000000</td>\n",
       "      <td>9.000000</td>\n",
       "      <td>2.014000e+03</td>\n",
       "    </tr>\n",
       "    <tr>\n",
       "      <th>Floor</th>\n",
       "      <td>10000.0</td>\n",
       "      <td>8.526700</td>\n",
       "      <td>5.241148</td>\n",
       "      <td>1.000000</td>\n",
       "      <td>4.000000</td>\n",
       "      <td>7.000000</td>\n",
       "      <td>12.000000</td>\n",
       "      <td>4.200000e+01</td>\n",
       "    </tr>\n",
       "    <tr>\n",
       "      <th>HouseFloor</th>\n",
       "      <td>10000.0</td>\n",
       "      <td>12.609400</td>\n",
       "      <td>6.775974</td>\n",
       "      <td>0.000000</td>\n",
       "      <td>9.000000</td>\n",
       "      <td>13.000000</td>\n",
       "      <td>17.000000</td>\n",
       "      <td>1.170000e+02</td>\n",
       "    </tr>\n",
       "    <tr>\n",
       "      <th>HouseYear</th>\n",
       "      <td>10000.0</td>\n",
       "      <td>3990.166300</td>\n",
       "      <td>200500.261427</td>\n",
       "      <td>1910.000000</td>\n",
       "      <td>1974.000000</td>\n",
       "      <td>1977.000000</td>\n",
       "      <td>2001.000000</td>\n",
       "      <td>2.005201e+07</td>\n",
       "    </tr>\n",
       "    <tr>\n",
       "      <th>Ecology_1</th>\n",
       "      <td>10000.0</td>\n",
       "      <td>0.118858</td>\n",
       "      <td>0.119025</td>\n",
       "      <td>0.000000</td>\n",
       "      <td>0.017647</td>\n",
       "      <td>0.075424</td>\n",
       "      <td>0.195781</td>\n",
       "      <td>5.218671e-01</td>\n",
       "    </tr>\n",
       "    <tr>\n",
       "      <th>Social_1</th>\n",
       "      <td>10000.0</td>\n",
       "      <td>24.687000</td>\n",
       "      <td>17.532614</td>\n",
       "      <td>0.000000</td>\n",
       "      <td>6.000000</td>\n",
       "      <td>25.000000</td>\n",
       "      <td>36.000000</td>\n",
       "      <td>7.400000e+01</td>\n",
       "    </tr>\n",
       "    <tr>\n",
       "      <th>Social_2</th>\n",
       "      <td>10000.0</td>\n",
       "      <td>5352.157400</td>\n",
       "      <td>4006.799803</td>\n",
       "      <td>168.000000</td>\n",
       "      <td>1564.000000</td>\n",
       "      <td>5285.000000</td>\n",
       "      <td>7227.000000</td>\n",
       "      <td>1.908300e+04</td>\n",
       "    </tr>\n",
       "    <tr>\n",
       "      <th>Social_3</th>\n",
       "      <td>10000.0</td>\n",
       "      <td>8.039200</td>\n",
       "      <td>23.831875</td>\n",
       "      <td>0.000000</td>\n",
       "      <td>0.000000</td>\n",
       "      <td>2.000000</td>\n",
       "      <td>5.000000</td>\n",
       "      <td>1.410000e+02</td>\n",
       "    </tr>\n",
       "    <tr>\n",
       "      <th>Healthcare_1</th>\n",
       "      <td>5202.0</td>\n",
       "      <td>1142.904460</td>\n",
       "      <td>1021.517264</td>\n",
       "      <td>0.000000</td>\n",
       "      <td>350.000000</td>\n",
       "      <td>900.000000</td>\n",
       "      <td>1548.000000</td>\n",
       "      <td>4.849000e+03</td>\n",
       "    </tr>\n",
       "    <tr>\n",
       "      <th>Helthcare_2</th>\n",
       "      <td>10000.0</td>\n",
       "      <td>1.319500</td>\n",
       "      <td>1.493601</td>\n",
       "      <td>0.000000</td>\n",
       "      <td>0.000000</td>\n",
       "      <td>1.000000</td>\n",
       "      <td>2.000000</td>\n",
       "      <td>6.000000e+00</td>\n",
       "    </tr>\n",
       "    <tr>\n",
       "      <th>Shops_1</th>\n",
       "      <td>10000.0</td>\n",
       "      <td>4.231300</td>\n",
       "      <td>4.806341</td>\n",
       "      <td>0.000000</td>\n",
       "      <td>1.000000</td>\n",
       "      <td>3.000000</td>\n",
       "      <td>6.000000</td>\n",
       "      <td>2.300000e+01</td>\n",
       "    </tr>\n",
       "    <tr>\n",
       "      <th>Price</th>\n",
       "      <td>10000.0</td>\n",
       "      <td>214138.857399</td>\n",
       "      <td>92872.293865</td>\n",
       "      <td>59174.778028</td>\n",
       "      <td>153872.633942</td>\n",
       "      <td>192269.644879</td>\n",
       "      <td>249135.462171</td>\n",
       "      <td>6.332335e+05</td>\n",
       "    </tr>\n",
       "  </tbody>\n",
       "</table>\n",
       "</div>"
      ],
      "text/plain": [
       "                 count           mean            std           min  \\\n",
       "Id             10000.0    8383.407700    4859.019020      0.000000   \n",
       "DistrictId     10000.0      50.400800      43.587592      0.000000   \n",
       "Rooms          10000.0       1.890500       0.839512      0.000000   \n",
       "Square         10000.0      56.315775      21.058732      1.136859   \n",
       "LifeSquare      7887.0      37.199645      86.241209      0.370619   \n",
       "KitchenSquare  10000.0       6.273300      28.560917      0.000000   \n",
       "Floor          10000.0       8.526700       5.241148      1.000000   \n",
       "HouseFloor     10000.0      12.609400       6.775974      0.000000   \n",
       "HouseYear      10000.0    3990.166300  200500.261427   1910.000000   \n",
       "Ecology_1      10000.0       0.118858       0.119025      0.000000   \n",
       "Social_1       10000.0      24.687000      17.532614      0.000000   \n",
       "Social_2       10000.0    5352.157400    4006.799803    168.000000   \n",
       "Social_3       10000.0       8.039200      23.831875      0.000000   \n",
       "Healthcare_1    5202.0    1142.904460    1021.517264      0.000000   \n",
       "Helthcare_2    10000.0       1.319500       1.493601      0.000000   \n",
       "Shops_1        10000.0       4.231300       4.806341      0.000000   \n",
       "Price          10000.0  214138.857399   92872.293865  59174.778028   \n",
       "\n",
       "                         25%            50%            75%           max  \n",
       "Id               4169.500000    8394.500000   12592.500000  1.679800e+04  \n",
       "DistrictId         20.000000      36.000000      75.000000  2.090000e+02  \n",
       "Rooms               1.000000       2.000000       2.000000  1.900000e+01  \n",
       "Square             41.774881      52.513310      65.900625  6.410652e+02  \n",
       "LifeSquare         22.769832      32.781260      45.128803  7.480592e+03  \n",
       "KitchenSquare       1.000000       6.000000       9.000000  2.014000e+03  \n",
       "Floor               4.000000       7.000000      12.000000  4.200000e+01  \n",
       "HouseFloor          9.000000      13.000000      17.000000  1.170000e+02  \n",
       "HouseYear        1974.000000    1977.000000    2001.000000  2.005201e+07  \n",
       "Ecology_1           0.017647       0.075424       0.195781  5.218671e-01  \n",
       "Social_1            6.000000      25.000000      36.000000  7.400000e+01  \n",
       "Social_2         1564.000000    5285.000000    7227.000000  1.908300e+04  \n",
       "Social_3            0.000000       2.000000       5.000000  1.410000e+02  \n",
       "Healthcare_1      350.000000     900.000000    1548.000000  4.849000e+03  \n",
       "Helthcare_2         0.000000       1.000000       2.000000  6.000000e+00  \n",
       "Shops_1             1.000000       3.000000       6.000000  2.300000e+01  \n",
       "Price          153872.633942  192269.644879  249135.462171  6.332335e+05  "
      ]
     },
     "execution_count": 4,
     "metadata": {},
     "output_type": "execute_result"
    }
   ],
   "source": [
    "train_data.describe().transpose()"
   ]
  },
  {
   "cell_type": "markdown",
   "metadata": {},
   "source": [
    "Видим, что даные явно некорректны, и содержат аномальные значения. В частности, есть дома с нулевым количеством комнат, год представлен в неудобоваримом формате, в KitchenSquare попал год постройки дома и т.д."
   ]
  },
  {
   "cell_type": "markdown",
   "metadata": {},
   "source": [
    "Посмотрим на структуру тестового датасета:"
   ]
  },
  {
   "cell_type": "code",
   "execution_count": 5,
   "metadata": {},
   "outputs": [
    {
     "name": "stdout",
     "output_type": "stream",
     "text": [
      "<class 'pandas.core.frame.DataFrame'>\n",
      "RangeIndex: 5000 entries, 0 to 4999\n",
      "Data columns (total 19 columns):\n",
      "Id               5000 non-null int64\n",
      "DistrictId       5000 non-null int64\n",
      "Rooms            5000 non-null float64\n",
      "Square           5000 non-null float64\n",
      "LifeSquare       3959 non-null float64\n",
      "KitchenSquare    5000 non-null float64\n",
      "Floor            5000 non-null int64\n",
      "HouseFloor       5000 non-null float64\n",
      "HouseYear        5000 non-null int64\n",
      "Ecology_1        5000 non-null float64\n",
      "Ecology_2        5000 non-null object\n",
      "Ecology_3        5000 non-null object\n",
      "Social_1         5000 non-null int64\n",
      "Social_2         5000 non-null int64\n",
      "Social_3         5000 non-null int64\n",
      "Healthcare_1     2623 non-null float64\n",
      "Helthcare_2      5000 non-null int64\n",
      "Shops_1          5000 non-null int64\n",
      "Shops_2          5000 non-null object\n",
      "dtypes: float64(7), int64(9), object(3)\n",
      "memory usage: 742.3+ KB\n"
     ]
    }
   ],
   "source": [
    "test_data.info()"
   ]
  },
  {
   "cell_type": "markdown",
   "metadata": {},
   "source": [
    "Видим, что данные составляют 5000 записей, типы данных идентичны типам из тренировочного датасета. LifeSquare и HealthCare также присутствуют не полностью."
   ]
  },
  {
   "cell_type": "markdown",
   "metadata": {},
   "source": [
    "Статистика тестового датасета:"
   ]
  },
  {
   "cell_type": "code",
   "execution_count": 6,
   "metadata": {},
   "outputs": [
    {
     "data": {
      "text/html": [
       "<div>\n",
       "<style scoped>\n",
       "    .dataframe tbody tr th:only-of-type {\n",
       "        vertical-align: middle;\n",
       "    }\n",
       "\n",
       "    .dataframe tbody tr th {\n",
       "        vertical-align: top;\n",
       "    }\n",
       "\n",
       "    .dataframe thead th {\n",
       "        text-align: right;\n",
       "    }\n",
       "</style>\n",
       "<table border=\"1\" class=\"dataframe\">\n",
       "  <thead>\n",
       "    <tr style=\"text-align: right;\">\n",
       "      <th></th>\n",
       "      <th>count</th>\n",
       "      <th>mean</th>\n",
       "      <th>std</th>\n",
       "      <th>min</th>\n",
       "      <th>25%</th>\n",
       "      <th>50%</th>\n",
       "      <th>75%</th>\n",
       "      <th>max</th>\n",
       "    </tr>\n",
       "  </thead>\n",
       "  <tbody>\n",
       "    <tr>\n",
       "      <th>Id</th>\n",
       "      <td>5000.0</td>\n",
       "      <td>8412.595400</td>\n",
       "      <td>4832.674037</td>\n",
       "      <td>1.000000</td>\n",
       "      <td>4221.750000</td>\n",
       "      <td>8320.500000</td>\n",
       "      <td>12598.250000</td>\n",
       "      <td>16795.000000</td>\n",
       "    </tr>\n",
       "    <tr>\n",
       "      <th>DistrictId</th>\n",
       "      <td>5000.0</td>\n",
       "      <td>51.279200</td>\n",
       "      <td>44.179466</td>\n",
       "      <td>0.000000</td>\n",
       "      <td>21.000000</td>\n",
       "      <td>37.000000</td>\n",
       "      <td>77.000000</td>\n",
       "      <td>212.000000</td>\n",
       "    </tr>\n",
       "    <tr>\n",
       "      <th>Rooms</th>\n",
       "      <td>5000.0</td>\n",
       "      <td>1.910000</td>\n",
       "      <td>0.838594</td>\n",
       "      <td>0.000000</td>\n",
       "      <td>1.000000</td>\n",
       "      <td>2.000000</td>\n",
       "      <td>2.000000</td>\n",
       "      <td>17.000000</td>\n",
       "    </tr>\n",
       "    <tr>\n",
       "      <th>Square</th>\n",
       "      <td>5000.0</td>\n",
       "      <td>56.449500</td>\n",
       "      <td>19.092787</td>\n",
       "      <td>1.378543</td>\n",
       "      <td>41.906231</td>\n",
       "      <td>52.921340</td>\n",
       "      <td>66.285129</td>\n",
       "      <td>223.453689</td>\n",
       "    </tr>\n",
       "    <tr>\n",
       "      <th>LifeSquare</th>\n",
       "      <td>3959.0</td>\n",
       "      <td>36.158810</td>\n",
       "      <td>17.825287</td>\n",
       "      <td>0.333490</td>\n",
       "      <td>23.092026</td>\n",
       "      <td>32.925087</td>\n",
       "      <td>45.174091</td>\n",
       "      <td>303.071094</td>\n",
       "    </tr>\n",
       "    <tr>\n",
       "      <th>KitchenSquare</th>\n",
       "      <td>5000.0</td>\n",
       "      <td>5.976800</td>\n",
       "      <td>9.950018</td>\n",
       "      <td>0.000000</td>\n",
       "      <td>1.000000</td>\n",
       "      <td>6.000000</td>\n",
       "      <td>9.000000</td>\n",
       "      <td>620.000000</td>\n",
       "    </tr>\n",
       "    <tr>\n",
       "      <th>Floor</th>\n",
       "      <td>5000.0</td>\n",
       "      <td>8.632000</td>\n",
       "      <td>5.483228</td>\n",
       "      <td>1.000000</td>\n",
       "      <td>4.000000</td>\n",
       "      <td>7.000000</td>\n",
       "      <td>12.000000</td>\n",
       "      <td>78.000000</td>\n",
       "    </tr>\n",
       "    <tr>\n",
       "      <th>HouseFloor</th>\n",
       "      <td>5000.0</td>\n",
       "      <td>12.601000</td>\n",
       "      <td>6.789213</td>\n",
       "      <td>0.000000</td>\n",
       "      <td>9.000000</td>\n",
       "      <td>12.000000</td>\n",
       "      <td>17.000000</td>\n",
       "      <td>99.000000</td>\n",
       "    </tr>\n",
       "    <tr>\n",
       "      <th>HouseYear</th>\n",
       "      <td>5000.0</td>\n",
       "      <td>1984.392600</td>\n",
       "      <td>18.573149</td>\n",
       "      <td>1908.000000</td>\n",
       "      <td>1973.000000</td>\n",
       "      <td>1977.000000</td>\n",
       "      <td>2000.000000</td>\n",
       "      <td>2020.000000</td>\n",
       "    </tr>\n",
       "    <tr>\n",
       "      <th>Ecology_1</th>\n",
       "      <td>5000.0</td>\n",
       "      <td>0.119874</td>\n",
       "      <td>0.120070</td>\n",
       "      <td>0.000000</td>\n",
       "      <td>0.019509</td>\n",
       "      <td>0.072158</td>\n",
       "      <td>0.195781</td>\n",
       "      <td>0.521867</td>\n",
       "    </tr>\n",
       "    <tr>\n",
       "      <th>Social_1</th>\n",
       "      <td>5000.0</td>\n",
       "      <td>24.933800</td>\n",
       "      <td>17.532202</td>\n",
       "      <td>0.000000</td>\n",
       "      <td>6.000000</td>\n",
       "      <td>25.000000</td>\n",
       "      <td>36.000000</td>\n",
       "      <td>74.000000</td>\n",
       "    </tr>\n",
       "    <tr>\n",
       "      <th>Social_2</th>\n",
       "      <td>5000.0</td>\n",
       "      <td>5406.900000</td>\n",
       "      <td>4026.614773</td>\n",
       "      <td>168.000000</td>\n",
       "      <td>1564.000000</td>\n",
       "      <td>5285.000000</td>\n",
       "      <td>7287.000000</td>\n",
       "      <td>19083.000000</td>\n",
       "    </tr>\n",
       "    <tr>\n",
       "      <th>Social_3</th>\n",
       "      <td>5000.0</td>\n",
       "      <td>8.262600</td>\n",
       "      <td>23.863762</td>\n",
       "      <td>0.000000</td>\n",
       "      <td>0.000000</td>\n",
       "      <td>2.000000</td>\n",
       "      <td>5.000000</td>\n",
       "      <td>141.000000</td>\n",
       "    </tr>\n",
       "    <tr>\n",
       "      <th>Healthcare_1</th>\n",
       "      <td>2623.0</td>\n",
       "      <td>1146.657263</td>\n",
       "      <td>1044.744231</td>\n",
       "      <td>0.000000</td>\n",
       "      <td>325.000000</td>\n",
       "      <td>900.000000</td>\n",
       "      <td>1548.000000</td>\n",
       "      <td>4849.000000</td>\n",
       "    </tr>\n",
       "    <tr>\n",
       "      <th>Helthcare_2</th>\n",
       "      <td>5000.0</td>\n",
       "      <td>1.319400</td>\n",
       "      <td>1.479940</td>\n",
       "      <td>0.000000</td>\n",
       "      <td>0.000000</td>\n",
       "      <td>1.000000</td>\n",
       "      <td>2.000000</td>\n",
       "      <td>6.000000</td>\n",
       "    </tr>\n",
       "    <tr>\n",
       "      <th>Shops_1</th>\n",
       "      <td>5000.0</td>\n",
       "      <td>4.242800</td>\n",
       "      <td>4.777365</td>\n",
       "      <td>0.000000</td>\n",
       "      <td>1.000000</td>\n",
       "      <td>3.000000</td>\n",
       "      <td>6.000000</td>\n",
       "      <td>23.000000</td>\n",
       "    </tr>\n",
       "  </tbody>\n",
       "</table>\n",
       "</div>"
      ],
      "text/plain": [
       "                count         mean          std          min          25%  \\\n",
       "Id             5000.0  8412.595400  4832.674037     1.000000  4221.750000   \n",
       "DistrictId     5000.0    51.279200    44.179466     0.000000    21.000000   \n",
       "Rooms          5000.0     1.910000     0.838594     0.000000     1.000000   \n",
       "Square         5000.0    56.449500    19.092787     1.378543    41.906231   \n",
       "LifeSquare     3959.0    36.158810    17.825287     0.333490    23.092026   \n",
       "KitchenSquare  5000.0     5.976800     9.950018     0.000000     1.000000   \n",
       "Floor          5000.0     8.632000     5.483228     1.000000     4.000000   \n",
       "HouseFloor     5000.0    12.601000     6.789213     0.000000     9.000000   \n",
       "HouseYear      5000.0  1984.392600    18.573149  1908.000000  1973.000000   \n",
       "Ecology_1      5000.0     0.119874     0.120070     0.000000     0.019509   \n",
       "Social_1       5000.0    24.933800    17.532202     0.000000     6.000000   \n",
       "Social_2       5000.0  5406.900000  4026.614773   168.000000  1564.000000   \n",
       "Social_3       5000.0     8.262600    23.863762     0.000000     0.000000   \n",
       "Healthcare_1   2623.0  1146.657263  1044.744231     0.000000   325.000000   \n",
       "Helthcare_2    5000.0     1.319400     1.479940     0.000000     0.000000   \n",
       "Shops_1        5000.0     4.242800     4.777365     0.000000     1.000000   \n",
       "\n",
       "                       50%           75%           max  \n",
       "Id             8320.500000  12598.250000  16795.000000  \n",
       "DistrictId       37.000000     77.000000    212.000000  \n",
       "Rooms             2.000000      2.000000     17.000000  \n",
       "Square           52.921340     66.285129    223.453689  \n",
       "LifeSquare       32.925087     45.174091    303.071094  \n",
       "KitchenSquare     6.000000      9.000000    620.000000  \n",
       "Floor             7.000000     12.000000     78.000000  \n",
       "HouseFloor       12.000000     17.000000     99.000000  \n",
       "HouseYear      1977.000000   2000.000000   2020.000000  \n",
       "Ecology_1         0.072158      0.195781      0.521867  \n",
       "Social_1         25.000000     36.000000     74.000000  \n",
       "Social_2       5285.000000   7287.000000  19083.000000  \n",
       "Social_3          2.000000      5.000000    141.000000  \n",
       "Healthcare_1    900.000000   1548.000000   4849.000000  \n",
       "Helthcare_2       1.000000      2.000000      6.000000  \n",
       "Shops_1           3.000000      6.000000     23.000000  "
      ]
     },
     "execution_count": 6,
     "metadata": {},
     "output_type": "execute_result"
    }
   ],
   "source": [
    "test_data.describe().transpose()"
   ]
  },
  {
   "cell_type": "markdown",
   "metadata": {},
   "source": [
    "Ситуация аналогична тренировочному датасету."
   ]
  },
  {
   "cell_type": "markdown",
   "metadata": {},
   "source": [
    "Отобразим распределение целевой переменной 'Price':"
   ]
  },
  {
   "cell_type": "code",
   "execution_count": 7,
   "metadata": {},
   "outputs": [
    {
     "data": {
      "image/png": "[encoded data removed]",
      "text/plain": [
       "<Figure size 1008x432 with 1 Axes>"
      ]
     },
     "metadata": {
      "needs_background": "light"
     },
     "output_type": "display_data"
    }
   ],
   "source": [
    "plt.figure(figsize = (14, 6))\n",
    "sns.distplot(train_data['Price'], bins=100, kde=True)\n",
    "plt.xlabel('price')\n",
    "plt.show()"
   ]
  },
  {
   "cell_type": "markdown",
   "metadata": {},
   "source": [
    "Визуально распределение цены имеет признак логнормального распределения."
   ]
  },
  {
   "cell_type": "markdown",
   "metadata": {},
   "source": [
    "\n",
    "Для дальнейшей работы необходимо преобразовать данные."
   ]
  },
  {
   "cell_type": "markdown",
   "metadata": {},
   "source": [
    "\n",
    "### Преобразование данных:"
   ]
  },
  {
   "cell_type": "markdown",
   "metadata": {},
   "source": [
    "#### Преобразование данных будем выполнять по следующему алгоритму:\n",
    "#### 1. Изменение типа данных и оцифровка категориальных признаков\n",
    "#### 2. Заполнение пропущенных значений реалистичными данными\n",
    "#### 3. Обработка выбросов и аномальных значений"
   ]
  },
  {
   "cell_type": "markdown",
   "metadata": {},
   "source": [
    "##### 1. Изменение типа данных и оцифровка категориальных признаков:\n",
    "\n",
    "Посмотрим, что за данные хранятся в object-столбцах:"
   ]
  },
  {
   "cell_type": "code",
   "execution_count": 8,
   "metadata": {
    "scrolled": true
   },
   "outputs": [
    {
     "data": {
      "text/plain": [
       "Index(['Ecology_2', 'Ecology_3', 'Shops_2'], dtype='object')"
      ]
     },
     "execution_count": 8,
     "metadata": {},
     "output_type": "execute_result"
    }
   ],
   "source": [
    "object_data = train_data.select_dtypes(include='object')\n",
    "object_data_columns = object_data.columns\n",
    "object_data_columns"
   ]
  },
  {
   "cell_type": "code",
   "execution_count": 9,
   "metadata": {},
   "outputs": [
    {
     "data": {
      "text/plain": [
       "B    9903\n",
       "A      97\n",
       "Name: Ecology_2, dtype: int64"
      ]
     },
     "execution_count": 9,
     "metadata": {},
     "output_type": "execute_result"
    }
   ],
   "source": [
    "train_data['Ecology_2'].value_counts()"
   ]
  },
  {
   "cell_type": "code",
   "execution_count": 10,
   "metadata": {},
   "outputs": [
    {
     "data": {
      "text/plain": [
       "B    9725\n",
       "A     275\n",
       "Name: Ecology_3, dtype: int64"
      ]
     },
     "execution_count": 10,
     "metadata": {},
     "output_type": "execute_result"
    }
   ],
   "source": [
    "train_data['Ecology_3'].value_counts()"
   ]
  },
  {
   "cell_type": "code",
   "execution_count": 11,
   "metadata": {},
   "outputs": [
    {
     "data": {
      "text/plain": [
       "B    9175\n",
       "A     825\n",
       "Name: Shops_2, dtype: int64"
      ]
     },
     "execution_count": 11,
     "metadata": {},
     "output_type": "execute_result"
    }
   ],
   "source": [
    "train_data['Shops_2'].value_counts()"
   ]
  },
  {
   "cell_type": "markdown",
   "metadata": {},
   "source": [
    "Во всех столбцах типа 'object' находятся значения, соответствующие какой-то категории. Можно заменить их на числовые.\n",
    "\n",
    "Определим функцию замены:"
   ]
  },
  {
   "cell_type": "code",
   "execution_count": 12,
   "metadata": {
    "scrolled": true
   },
   "outputs": [],
   "source": [
    "def change_category_to_number(data):\n",
    "    '''Функция получает в качестве параметра датафрейм,\n",
    "        определяет в нем признаки с типом \"object\",\n",
    "        применяя OrdinalEncoder, переводит категориальные признаки в числовые с типом \"int64\",\n",
    "        устанавливает значения этих признаков в исходный датафрейм и возвращает его'''\n",
    "    \n",
    "    #получим данные из столбцов типа 'object'\n",
    "    object_data = data.select_dtypes(include='object')\n",
    "    object_data_columns = object_data.columns\n",
    "    \n",
    "    #преобразуем категориальные признаки в числовые\n",
    "    encoder = preprocessing.OrdinalEncoder(dtype='int64')\n",
    "    encoder.fit(object_data)\n",
    "    object_data = encoder.transform(object_data)\n",
    "    \n",
    "    #полученные значения запишем в исходный датафрейм\n",
    "    data[object_data_columns] = object_data\n",
    "    return data"
   ]
  },
  {
   "cell_type": "code",
   "execution_count": 13,
   "metadata": {},
   "outputs": [],
   "source": [
    "train_data = change_category_to_number(train_data)"
   ]
  },
  {
   "cell_type": "markdown",
   "metadata": {},
   "source": [
    "##### 2. Заполнение пропущенных данных реалистичными значениями:"
   ]
  },
  {
   "cell_type": "markdown",
   "metadata": {},
   "source": [
    "Определим функцию, которая заменит NaN на медианные значения:"
   ]
  },
  {
   "cell_type": "code",
   "execution_count": 14,
   "metadata": {},
   "outputs": [],
   "source": [
    "def replace_NaN_with_number(data):  \n",
    "    NaN_columns=data.columns[data.isna().any()].tolist()\n",
    "    for column_name in NaN_columns:\n",
    "        count_NaN_values = data[column_name].isnull().sum()\n",
    "        count_values = data.shape[0]\n",
    "        data[column_name] = data[column_name].fillna(data[column_name].median())\n",
    "    return data"
   ]
  },
  {
   "cell_type": "code",
   "execution_count": 15,
   "metadata": {},
   "outputs": [
    {
     "data": {
      "text/plain": [
       "['LifeSquare', 'Healthcare_1']"
      ]
     },
     "execution_count": 15,
     "metadata": {},
     "output_type": "execute_result"
    }
   ],
   "source": [
    "#посмотрим, какие колонки содержат пропуски значений:\n",
    "NaN_columns=train_data.columns[train_data.isna().any()].tolist()\n",
    "NaN_columns"
   ]
  },
  {
   "cell_type": "markdown",
   "metadata": {},
   "source": [
    "Колонка LifeSquare - жилая площадь, и обычно должна занимать какую-то долю от реальной площади квартиры.\n",
    "Вычислим эту долю, основываясь на заполненных значениях LifeSquare и соответствующих значения Square.\n",
    "Дозаполним пропущенные значения LifeSquare в соответствии с долей жилой площади:\n",
    "\n",
    "Определим фукнкцию вычисления значений одного поля в зависимости от доли другого поля"
   ]
  },
  {
   "cell_type": "code",
   "execution_count": 16,
   "metadata": {},
   "outputs": [],
   "source": [
    "def set_share_values(data, set_ColumnName, get_ColumName):\n",
    "    share = (data.loc[data[set_ColumnName].notnull(), set_ColumnName]/data.loc[data[set_ColumnName].notnull(), get_ColumName]).median()\n",
    "    data[set_ColumnName] = data[set_ColumnName].fillna(data[get_ColumName] * share)\n",
    "    return data"
   ]
  },
  {
   "cell_type": "code",
   "execution_count": 17,
   "metadata": {},
   "outputs": [],
   "source": [
    "train_data = set_share_values(train_data,'LifeSquare','Square')"
   ]
  },
  {
   "cell_type": "code",
   "execution_count": 18,
   "metadata": {
    "scrolled": true
   },
   "outputs": [
    {
     "data": {
      "image/png": "[encoded data removed]",
      "text/plain": [
       "<Figure size 1008x432 with 1 Axes>"
      ]
     },
     "metadata": {
      "needs_background": "light"
     },
     "output_type": "display_data"
    }
   ],
   "source": [
    "#ещё один признак Healthcare_1 содержит пропущенные значения\n",
    "#посмотрим его распределение\n",
    "plt.figure(figsize = (14, 6))\n",
    "train_data['Healthcare_1'].hist(bins=100)\n",
    "plt.xlabel('price')\n",
    "plt.show()"
   ]
  },
  {
   "cell_type": "code",
   "execution_count": 19,
   "metadata": {},
   "outputs": [],
   "source": [
    "#видим, что распределение данного признака не имеет под собой каких-либо оснований\n",
    "#Заменим пропуски значений средним значением\n",
    "#плюс попутно, если есть ещё какие-нибудь NaN значения - их тоже заменим на среднее:\n",
    "train_data = replace_NaN_with_number(train_data)"
   ]
  },
  {
   "cell_type": "markdown",
   "metadata": {},
   "source": [
    "##### 3. Обработка выбросов и аномальных значений:"
   ]
  },
  {
   "cell_type": "markdown",
   "metadata": {},
   "source": [
    "Планомерно пройдём по каждому признаку:"
   ]
  },
  {
   "cell_type": "code",
   "execution_count": 20,
   "metadata": {},
   "outputs": [
    {
     "data": {
      "text/plain": [
       "2.0     3880\n",
       "1.0     3705\n",
       "3.0     2235\n",
       "4.0      150\n",
       "5.0       18\n",
       "0.0        8\n",
       "10.0       2\n",
       "19.0       1\n",
       "6.0        1\n",
       "Name: Rooms, dtype: int64"
      ]
     },
     "execution_count": 20,
     "metadata": {},
     "output_type": "execute_result"
    }
   ],
   "source": [
    "train_data['Rooms'].value_counts()"
   ]
  },
  {
   "cell_type": "markdown",
   "metadata": {},
   "source": [
    "Видим, что есть 8 квартир, у которых количество комнат = 0.\n",
    "Заменим его на 1"
   ]
  },
  {
   "cell_type": "markdown",
   "metadata": {},
   "source": [
    "Определим функцию, которая заменит нулевые значения в необходимых полях:"
   ]
  },
  {
   "cell_type": "code",
   "execution_count": 21,
   "metadata": {},
   "outputs": [],
   "source": [
    "def set_value_from_zeros_to_values(data,set_ColumnName,setValue):\n",
    "    data.loc[data[set_ColumnName] == 0, set_ColumnName] = setValue\n",
    "    return data"
   ]
  },
  {
   "cell_type": "code",
   "execution_count": 22,
   "metadata": {},
   "outputs": [
    {
     "data": {
      "text/plain": [
       "2.0     3880\n",
       "1.0     3713\n",
       "3.0     2235\n",
       "4.0      150\n",
       "5.0       18\n",
       "10.0       2\n",
       "19.0       1\n",
       "6.0        1\n",
       "Name: Rooms, dtype: int64"
      ]
     },
     "execution_count": 22,
     "metadata": {},
     "output_type": "execute_result"
    }
   ],
   "source": [
    "train_data = set_value_from_zeros_to_values(train_data, 'Rooms',1)\n",
    "train_data['Rooms'].value_counts()"
   ]
  },
  {
   "cell_type": "code",
   "execution_count": 23,
   "metadata": {},
   "outputs": [
    {
     "data": {
      "text/html": [
       "<div>\n",
       "<style scoped>\n",
       "    .dataframe tbody tr th:only-of-type {\n",
       "        vertical-align: middle;\n",
       "    }\n",
       "\n",
       "    .dataframe tbody tr th {\n",
       "        vertical-align: top;\n",
       "    }\n",
       "\n",
       "    .dataframe thead th {\n",
       "        text-align: right;\n",
       "    }\n",
       "</style>\n",
       "<table border=\"1\" class=\"dataframe\">\n",
       "  <thead>\n",
       "    <tr style=\"text-align: right;\">\n",
       "      <th></th>\n",
       "      <th>Square</th>\n",
       "      <th>LifeSquare</th>\n",
       "      <th>KitchenSquare</th>\n",
       "      <th>Price</th>\n",
       "    </tr>\n",
       "  </thead>\n",
       "  <tbody>\n",
       "    <tr>\n",
       "      <th>6977</th>\n",
       "      <td>641.065193</td>\n",
       "      <td>638.163193</td>\n",
       "      <td>10.0</td>\n",
       "      <td>133529.681562</td>\n",
       "    </tr>\n",
       "    <tr>\n",
       "      <th>4262</th>\n",
       "      <td>604.705972</td>\n",
       "      <td>373.422265</td>\n",
       "      <td>1.0</td>\n",
       "      <td>187717.242538</td>\n",
       "    </tr>\n",
       "    <tr>\n",
       "      <th>4690</th>\n",
       "      <td>409.425181</td>\n",
       "      <td>410.639749</td>\n",
       "      <td>10.0</td>\n",
       "      <td>90470.430830</td>\n",
       "    </tr>\n",
       "    <tr>\n",
       "      <th>1982</th>\n",
       "      <td>275.645284</td>\n",
       "      <td>233.949309</td>\n",
       "      <td>26.0</td>\n",
       "      <td>455264.882666</td>\n",
       "    </tr>\n",
       "    <tr>\n",
       "      <th>1981</th>\n",
       "      <td>212.932361</td>\n",
       "      <td>211.231125</td>\n",
       "      <td>0.0</td>\n",
       "      <td>302211.260887</td>\n",
       "    </tr>\n",
       "    <tr>\n",
       "      <th>9910</th>\n",
       "      <td>200.334539</td>\n",
       "      <td>201.627361</td>\n",
       "      <td>25.0</td>\n",
       "      <td>528560.506016</td>\n",
       "    </tr>\n",
       "    <tr>\n",
       "      <th>8511</th>\n",
       "      <td>198.930182</td>\n",
       "      <td>123.139863</td>\n",
       "      <td>10.0</td>\n",
       "      <td>345665.209100</td>\n",
       "    </tr>\n",
       "    <tr>\n",
       "      <th>652</th>\n",
       "      <td>190.857689</td>\n",
       "      <td>107.376164</td>\n",
       "      <td>19.0</td>\n",
       "      <td>338644.075979</td>\n",
       "    </tr>\n",
       "    <tr>\n",
       "      <th>7201</th>\n",
       "      <td>186.692602</td>\n",
       "      <td>87.487080</td>\n",
       "      <td>32.0</td>\n",
       "      <td>423443.464367</td>\n",
       "    </tr>\n",
       "    <tr>\n",
       "      <th>5087</th>\n",
       "      <td>185.906396</td>\n",
       "      <td>84.830074</td>\n",
       "      <td>31.0</td>\n",
       "      <td>340273.238253</td>\n",
       "    </tr>\n",
       "  </tbody>\n",
       "</table>\n",
       "</div>"
      ],
      "text/plain": [
       "          Square  LifeSquare  KitchenSquare          Price\n",
       "6977  641.065193  638.163193           10.0  133529.681562\n",
       "4262  604.705972  373.422265            1.0  187717.242538\n",
       "4690  409.425181  410.639749           10.0   90470.430830\n",
       "1982  275.645284  233.949309           26.0  455264.882666\n",
       "1981  212.932361  211.231125            0.0  302211.260887\n",
       "9910  200.334539  201.627361           25.0  528560.506016\n",
       "8511  198.930182  123.139863           10.0  345665.209100\n",
       "652   190.857689  107.376164           19.0  338644.075979\n",
       "7201  186.692602   87.487080           32.0  423443.464367\n",
       "5087  185.906396   84.830074           31.0  340273.238253"
      ]
     },
     "execution_count": 23,
     "metadata": {},
     "output_type": "execute_result"
    }
   ],
   "source": [
    "train_data.sort_values(['Square'], ascending=False)[['Square','LifeSquare','KitchenSquare','Price']].head(10)"
   ]
  },
  {
   "cell_type": "code",
   "execution_count": 24,
   "metadata": {},
   "outputs": [
    {
     "data": {
      "image/png": "[encoded data removed]",
      "text/plain": [
       "<Figure size 504x504 with 1 Axes>"
      ]
     },
     "metadata": {
      "needs_background": "light"
     },
     "output_type": "display_data"
    }
   ],
   "source": [
    "plt.figure(figsize=(7, 7))\n",
    "           \n",
    "sns.scatterplot(x=train_data['Square'], y=train_data['Price'])\n",
    "    \n",
    "plt.xlabel('Square')\n",
    "plt.ylabel('Price')\n",
    "plt.title('Square/Price')\n",
    "plt.show()"
   ]
  },
  {
   "cell_type": "markdown",
   "metadata": {},
   "source": [
    "Видим на графике, что наибольшие 3 точки по площади на графике явно относятся к выбросам. Это точки, с площадью больше 400 м2\n",
    "Удалим из выборки эти значения.\n",
    "Определим функцию, которая удаляет строки с значением поля больше определенного значения:"
   ]
  },
  {
   "cell_type": "code",
   "execution_count": 25,
   "metadata": {},
   "outputs": [],
   "source": [
    "def delete_gross_values_rows(data,set_Column_name,max_value):\n",
    "    indexNames = data[data[set_Column_name] > max_value ].index\n",
    "    data.drop(indexNames , inplace=True)\n",
    "    return data"
   ]
  },
  {
   "cell_type": "code",
   "execution_count": 26,
   "metadata": {},
   "outputs": [],
   "source": [
    "train_data = delete_gross_values_rows(train_data,'Square',400)"
   ]
  },
  {
   "cell_type": "code",
   "execution_count": 27,
   "metadata": {},
   "outputs": [
    {
     "data": {
      "text/html": [
       "<div>\n",
       "<style scoped>\n",
       "    .dataframe tbody tr th:only-of-type {\n",
       "        vertical-align: middle;\n",
       "    }\n",
       "\n",
       "    .dataframe tbody tr th {\n",
       "        vertical-align: top;\n",
       "    }\n",
       "\n",
       "    .dataframe thead th {\n",
       "        text-align: right;\n",
       "    }\n",
       "</style>\n",
       "<table border=\"1\" class=\"dataframe\">\n",
       "  <thead>\n",
       "    <tr style=\"text-align: right;\">\n",
       "      <th></th>\n",
       "      <th>Id</th>\n",
       "      <th>DistrictId</th>\n",
       "      <th>Rooms</th>\n",
       "      <th>Square</th>\n",
       "      <th>LifeSquare</th>\n",
       "      <th>KitchenSquare</th>\n",
       "      <th>Floor</th>\n",
       "      <th>HouseFloor</th>\n",
       "      <th>HouseYear</th>\n",
       "      <th>Ecology_1</th>\n",
       "      <th>Ecology_2</th>\n",
       "      <th>Ecology_3</th>\n",
       "      <th>Social_1</th>\n",
       "      <th>Social_2</th>\n",
       "      <th>Social_3</th>\n",
       "      <th>Healthcare_1</th>\n",
       "      <th>Helthcare_2</th>\n",
       "      <th>Shops_1</th>\n",
       "      <th>Shops_2</th>\n",
       "      <th>Price</th>\n",
       "    </tr>\n",
       "  </thead>\n",
       "  <tbody>\n",
       "    <tr>\n",
       "      <th>1064</th>\n",
       "      <td>14656</td>\n",
       "      <td>62</td>\n",
       "      <td>1.0</td>\n",
       "      <td>47.100719</td>\n",
       "      <td>46.447960</td>\n",
       "      <td>2014.0</td>\n",
       "      <td>4</td>\n",
       "      <td>1.0</td>\n",
       "      <td>2014</td>\n",
       "      <td>0.072158</td>\n",
       "      <td>1</td>\n",
       "      <td>1</td>\n",
       "      <td>2</td>\n",
       "      <td>629</td>\n",
       "      <td>1</td>\n",
       "      <td>900.0</td>\n",
       "      <td>0</td>\n",
       "      <td>0</td>\n",
       "      <td>0</td>\n",
       "      <td>108337.484207</td>\n",
       "    </tr>\n",
       "    <tr>\n",
       "      <th>8584</th>\n",
       "      <td>14679</td>\n",
       "      <td>81</td>\n",
       "      <td>1.0</td>\n",
       "      <td>32.276663</td>\n",
       "      <td>19.278394</td>\n",
       "      <td>1970.0</td>\n",
       "      <td>6</td>\n",
       "      <td>1.0</td>\n",
       "      <td>1977</td>\n",
       "      <td>0.006076</td>\n",
       "      <td>1</td>\n",
       "      <td>1</td>\n",
       "      <td>30</td>\n",
       "      <td>5285</td>\n",
       "      <td>0</td>\n",
       "      <td>645.0</td>\n",
       "      <td>6</td>\n",
       "      <td>6</td>\n",
       "      <td>1</td>\n",
       "      <td>105539.556275</td>\n",
       "    </tr>\n",
       "    <tr>\n",
       "      <th>9895</th>\n",
       "      <td>2737</td>\n",
       "      <td>27</td>\n",
       "      <td>3.0</td>\n",
       "      <td>123.430072</td>\n",
       "      <td>125.806981</td>\n",
       "      <td>123.0</td>\n",
       "      <td>5</td>\n",
       "      <td>10.0</td>\n",
       "      <td>2015</td>\n",
       "      <td>0.017647</td>\n",
       "      <td>1</td>\n",
       "      <td>1</td>\n",
       "      <td>2</td>\n",
       "      <td>469</td>\n",
       "      <td>0</td>\n",
       "      <td>900.0</td>\n",
       "      <td>0</td>\n",
       "      <td>0</td>\n",
       "      <td>1</td>\n",
       "      <td>234194.837047</td>\n",
       "    </tr>\n",
       "    <tr>\n",
       "      <th>2969</th>\n",
       "      <td>7441</td>\n",
       "      <td>62</td>\n",
       "      <td>3.0</td>\n",
       "      <td>114.734473</td>\n",
       "      <td>112.589083</td>\n",
       "      <td>112.0</td>\n",
       "      <td>3</td>\n",
       "      <td>3.0</td>\n",
       "      <td>2015</td>\n",
       "      <td>0.072158</td>\n",
       "      <td>1</td>\n",
       "      <td>1</td>\n",
       "      <td>2</td>\n",
       "      <td>629</td>\n",
       "      <td>1</td>\n",
       "      <td>900.0</td>\n",
       "      <td>0</td>\n",
       "      <td>0</td>\n",
       "      <td>0</td>\n",
       "      <td>315245.521059</td>\n",
       "    </tr>\n",
       "    <tr>\n",
       "      <th>4651</th>\n",
       "      <td>12552</td>\n",
       "      <td>58</td>\n",
       "      <td>3.0</td>\n",
       "      <td>116.405693</td>\n",
       "      <td>113.109653</td>\n",
       "      <td>112.0</td>\n",
       "      <td>3</td>\n",
       "      <td>3.0</td>\n",
       "      <td>2016</td>\n",
       "      <td>0.437885</td>\n",
       "      <td>1</td>\n",
       "      <td>1</td>\n",
       "      <td>23</td>\n",
       "      <td>5735</td>\n",
       "      <td>3</td>\n",
       "      <td>1084.0</td>\n",
       "      <td>0</td>\n",
       "      <td>5</td>\n",
       "      <td>1</td>\n",
       "      <td>296165.936689</td>\n",
       "    </tr>\n",
       "  </tbody>\n",
       "</table>\n",
       "</div>"
      ],
      "text/plain": [
       "         Id  DistrictId  Rooms      Square  LifeSquare  KitchenSquare  Floor  \\\n",
       "1064  14656          62    1.0   47.100719   46.447960         2014.0      4   \n",
       "8584  14679          81    1.0   32.276663   19.278394         1970.0      6   \n",
       "9895   2737          27    3.0  123.430072  125.806981          123.0      5   \n",
       "2969   7441          62    3.0  114.734473  112.589083          112.0      3   \n",
       "4651  12552          58    3.0  116.405693  113.109653          112.0      3   \n",
       "\n",
       "      HouseFloor  HouseYear  Ecology_1  Ecology_2  Ecology_3  Social_1  \\\n",
       "1064         1.0       2014   0.072158          1          1         2   \n",
       "8584         1.0       1977   0.006076          1          1        30   \n",
       "9895        10.0       2015   0.017647          1          1         2   \n",
       "2969         3.0       2015   0.072158          1          1         2   \n",
       "4651         3.0       2016   0.437885          1          1        23   \n",
       "\n",
       "      Social_2  Social_3  Healthcare_1  Helthcare_2  Shops_1  Shops_2  \\\n",
       "1064       629         1         900.0            0        0        0   \n",
       "8584      5285         0         645.0            6        6        1   \n",
       "9895       469         0         900.0            0        0        1   \n",
       "2969       629         1         900.0            0        0        0   \n",
       "4651      5735         3        1084.0            0        5        1   \n",
       "\n",
       "              Price  \n",
       "1064  108337.484207  \n",
       "8584  105539.556275  \n",
       "9895  234194.837047  \n",
       "2969  315245.521059  \n",
       "4651  296165.936689  "
      ]
     },
     "execution_count": 27,
     "metadata": {},
     "output_type": "execute_result"
    }
   ],
   "source": [
    "#Посмотрим выборку, отсортированную по KitchenSquare\n",
    "train_data.sort_values(['KitchenSquare'], ascending=False).head(5)"
   ]
  },
  {
   "cell_type": "markdown",
   "metadata": {},
   "source": [
    "Видим, что в KitchenSquare почему-то попал год постройки дома\n",
    "обнулим его.\n",
    "Определим функцию, обнуляющую значения, превышающие определенный порог:"
   ]
  },
  {
   "cell_type": "code",
   "execution_count": 28,
   "metadata": {},
   "outputs": [],
   "source": [
    "def set_value_from_values_to_zeros(data,set_ColumnName,value):\n",
    "    data[ data[set_ColumnName] > value] = 0\n",
    "    return data"
   ]
  },
  {
   "cell_type": "code",
   "execution_count": 29,
   "metadata": {},
   "outputs": [],
   "source": [
    "train_data = set_value_from_values_to_zeros(train_data,'KitchenSquare', 123)"
   ]
  },
  {
   "cell_type": "markdown",
   "metadata": {},
   "source": [
    "Добавим переменные, характеризующие другие величины:"
   ]
  },
  {
   "cell_type": "code",
   "execution_count": 30,
   "metadata": {},
   "outputs": [],
   "source": [
    "def get_counter(data, get_Column_name,counter_name):\n",
    "    counter_name = data[get_Column_name].value_counts().reset_index().rename(columns={'index':get_Column_name, get_Column_name:counter_name})\n",
    "    data = data.merge(counter_name, on=get_Column_name, how='left') \n",
    "    return data  "
   ]
  },
  {
   "cell_type": "code",
   "execution_count": 31,
   "metadata": {},
   "outputs": [
    {
     "data": {
      "text/html": [
       "<div>\n",
       "<style scoped>\n",
       "    .dataframe tbody tr th:only-of-type {\n",
       "        vertical-align: middle;\n",
       "    }\n",
       "\n",
       "    .dataframe tbody tr th {\n",
       "        vertical-align: top;\n",
       "    }\n",
       "\n",
       "    .dataframe thead th {\n",
       "        text-align: right;\n",
       "    }\n",
       "</style>\n",
       "<table border=\"1\" class=\"dataframe\">\n",
       "  <thead>\n",
       "    <tr style=\"text-align: right;\">\n",
       "      <th></th>\n",
       "      <th>Id</th>\n",
       "      <th>DistrictId</th>\n",
       "      <th>Rooms</th>\n",
       "      <th>Square</th>\n",
       "      <th>LifeSquare</th>\n",
       "      <th>KitchenSquare</th>\n",
       "      <th>Floor</th>\n",
       "      <th>HouseFloor</th>\n",
       "      <th>HouseYear</th>\n",
       "      <th>Ecology_1</th>\n",
       "      <th>...</th>\n",
       "      <th>Social_1</th>\n",
       "      <th>Social_2</th>\n",
       "      <th>Social_3</th>\n",
       "      <th>Healthcare_1</th>\n",
       "      <th>Helthcare_2</th>\n",
       "      <th>Shops_1</th>\n",
       "      <th>Shops_2</th>\n",
       "      <th>Price</th>\n",
       "      <th>number_of_apartmens</th>\n",
       "      <th>number_of_rooms</th>\n",
       "    </tr>\n",
       "  </thead>\n",
       "  <tbody>\n",
       "    <tr>\n",
       "      <th>0</th>\n",
       "      <td>14038</td>\n",
       "      <td>35</td>\n",
       "      <td>2.0</td>\n",
       "      <td>47.981561</td>\n",
       "      <td>29.442751</td>\n",
       "      <td>6.0</td>\n",
       "      <td>7</td>\n",
       "      <td>9.0</td>\n",
       "      <td>1969</td>\n",
       "      <td>0.089040</td>\n",
       "      <td>...</td>\n",
       "      <td>33</td>\n",
       "      <td>7976</td>\n",
       "      <td>5</td>\n",
       "      <td>900.0</td>\n",
       "      <td>0</td>\n",
       "      <td>11</td>\n",
       "      <td>1</td>\n",
       "      <td>184966.930730</td>\n",
       "      <td>22</td>\n",
       "      <td>3878</td>\n",
       "    </tr>\n",
       "    <tr>\n",
       "      <th>1</th>\n",
       "      <td>15053</td>\n",
       "      <td>41</td>\n",
       "      <td>3.0</td>\n",
       "      <td>65.683640</td>\n",
       "      <td>40.049543</td>\n",
       "      <td>8.0</td>\n",
       "      <td>7</td>\n",
       "      <td>9.0</td>\n",
       "      <td>1978</td>\n",
       "      <td>0.000070</td>\n",
       "      <td>...</td>\n",
       "      <td>46</td>\n",
       "      <td>10309</td>\n",
       "      <td>1</td>\n",
       "      <td>240.0</td>\n",
       "      <td>1</td>\n",
       "      <td>16</td>\n",
       "      <td>1</td>\n",
       "      <td>300009.450063</td>\n",
       "      <td>87</td>\n",
       "      <td>2235</td>\n",
       "    </tr>\n",
       "    <tr>\n",
       "      <th>2</th>\n",
       "      <td>4765</td>\n",
       "      <td>53</td>\n",
       "      <td>2.0</td>\n",
       "      <td>44.947953</td>\n",
       "      <td>29.197612</td>\n",
       "      <td>0.0</td>\n",
       "      <td>8</td>\n",
       "      <td>12.0</td>\n",
       "      <td>1968</td>\n",
       "      <td>0.049637</td>\n",
       "      <td>...</td>\n",
       "      <td>34</td>\n",
       "      <td>7759</td>\n",
       "      <td>0</td>\n",
       "      <td>229.0</td>\n",
       "      <td>1</td>\n",
       "      <td>3</td>\n",
       "      <td>1</td>\n",
       "      <td>220925.908524</td>\n",
       "      <td>174</td>\n",
       "      <td>3878</td>\n",
       "    </tr>\n",
       "    <tr>\n",
       "      <th>3</th>\n",
       "      <td>5809</td>\n",
       "      <td>58</td>\n",
       "      <td>2.0</td>\n",
       "      <td>53.352981</td>\n",
       "      <td>52.731512</td>\n",
       "      <td>9.0</td>\n",
       "      <td>8</td>\n",
       "      <td>17.0</td>\n",
       "      <td>1977</td>\n",
       "      <td>0.437885</td>\n",
       "      <td>...</td>\n",
       "      <td>23</td>\n",
       "      <td>5735</td>\n",
       "      <td>3</td>\n",
       "      <td>1084.0</td>\n",
       "      <td>0</td>\n",
       "      <td>5</td>\n",
       "      <td>1</td>\n",
       "      <td>175616.227217</td>\n",
       "      <td>179</td>\n",
       "      <td>3878</td>\n",
       "    </tr>\n",
       "    <tr>\n",
       "      <th>4</th>\n",
       "      <td>10783</td>\n",
       "      <td>99</td>\n",
       "      <td>1.0</td>\n",
       "      <td>39.649192</td>\n",
       "      <td>23.776169</td>\n",
       "      <td>7.0</td>\n",
       "      <td>11</td>\n",
       "      <td>12.0</td>\n",
       "      <td>1976</td>\n",
       "      <td>0.012339</td>\n",
       "      <td>...</td>\n",
       "      <td>35</td>\n",
       "      <td>5776</td>\n",
       "      <td>1</td>\n",
       "      <td>2078.0</td>\n",
       "      <td>2</td>\n",
       "      <td>4</td>\n",
       "      <td>1</td>\n",
       "      <td>150226.531644</td>\n",
       "      <td>97</td>\n",
       "      <td>3710</td>\n",
       "    </tr>\n",
       "  </tbody>\n",
       "</table>\n",
       "<p>5 rows × 22 columns</p>\n",
       "</div>"
      ],
      "text/plain": [
       "      Id  DistrictId  Rooms     Square  LifeSquare  KitchenSquare  Floor  \\\n",
       "0  14038          35    2.0  47.981561   29.442751            6.0      7   \n",
       "1  15053          41    3.0  65.683640   40.049543            8.0      7   \n",
       "2   4765          53    2.0  44.947953   29.197612            0.0      8   \n",
       "3   5809          58    2.0  53.352981   52.731512            9.0      8   \n",
       "4  10783          99    1.0  39.649192   23.776169            7.0     11   \n",
       "\n",
       "   HouseFloor  HouseYear  Ecology_1  ...  Social_1  Social_2  Social_3  \\\n",
       "0         9.0       1969   0.089040  ...        33      7976         5   \n",
       "1         9.0       1978   0.000070  ...        46     10309         1   \n",
       "2        12.0       1968   0.049637  ...        34      7759         0   \n",
       "3        17.0       1977   0.437885  ...        23      5735         3   \n",
       "4        12.0       1976   0.012339  ...        35      5776         1   \n",
       "\n",
       "   Healthcare_1  Helthcare_2  Shops_1  Shops_2          Price  \\\n",
       "0         900.0            0       11        1  184966.930730   \n",
       "1         240.0            1       16        1  300009.450063   \n",
       "2         229.0            1        3        1  220925.908524   \n",
       "3        1084.0            0        5        1  175616.227217   \n",
       "4        2078.0            2        4        1  150226.531644   \n",
       "\n",
       "   number_of_apartmens  number_of_rooms  \n",
       "0                   22             3878  \n",
       "1                   87             2235  \n",
       "2                  174             3878  \n",
       "3                  179             3878  \n",
       "4                   97             3710  \n",
       "\n",
       "[5 rows x 22 columns]"
      ]
     },
     "execution_count": 31,
     "metadata": {},
     "output_type": "execute_result"
    }
   ],
   "source": [
    "train_data = get_counter(train_data,'DistrictId','number_of_apartmens')\n",
    "train_data = get_counter(train_data,'Rooms','number_of_rooms')\n",
    "train_data.head()"
   ]
  },
  {
   "cell_type": "markdown",
   "metadata": {},
   "source": [
    "### Обучение и оценка модели:"
   ]
  },
  {
   "cell_type": "code",
   "execution_count": 32,
   "metadata": {},
   "outputs": [],
   "source": [
    "def show_preds(train_true_values, train_pred_values, test_true_values, test_pred_values):\n",
    "    print(\"Train R2:\\t\" + str(round(r2(train_true_values, train_pred_values), 3)))\n",
    "    print(\"Test R2:\\t\" + str(round(r2(test_true_values, test_pred_values), 3)))\n",
    "    print(\"Train MSE:\\t\" + str(round(mse(train_true_values, train_pred_values), 3)))\n",
    "    print(\"Test MSE:\\t\" + str(round(mse(test_true_values, test_pred_values), 3)))\n",
    "    \n",
    "    plt.figure(figsize=(12, 8))\n",
    "    sns.distplot( train_true_values, kde = True, bins = 50, color='blue', hist_kws=dict(alpha=0.3, label='Train'), label='Train')\n",
    "    sns.distplot( test_pred_values, kde = True, bins = 50, color='red',hist_kws=dict(alpha=0.3,label='Predict'), label='Predict')\n",
    "\n",
    "    plt.show()"
   ]
  },
  {
   "cell_type": "code",
   "execution_count": 33,
   "metadata": {},
   "outputs": [
    {
     "name": "stdout",
     "output_type": "stream",
     "text": [
      "RF model\n",
      "Train R2:\t0.86\n",
      "Test R2:\t0.709\n",
      "Train MSE:\t1183519180.067\n",
      "Test MSE:\t2629415627.993\n"
     ]
    },
    {
     "data": {
      "image/png": "[encoded data removed]",
      "text/plain": [
       "<Figure size 864x576 with 1 Axes>"
      ]
     },
     "metadata": {
      "needs_background": "light"
     },
     "output_type": "display_data"
    }
   ],
   "source": [
    "y = train_data['Price']\n",
    "X = train_data.drop(['Price'], axis=1)\n",
    "feature_names = X.columns\n",
    "\n",
    "#дробим выборку\n",
    "X_train, X_test, y_train, y_test = train_test_split(X, y, test_size=0.3, shuffle=True, random_state=21)\n",
    "    \n",
    "#нормализуем данные\n",
    "#scaler = StandardScaler()\n",
    "#X_train = scaler.fit_transform(X_train)\n",
    "#X_test = scaler.fit_transform(X_test)\n",
    "\n",
    "# Эмпирическим путем выявлено, что наилучший результат дает модель RandomForestRegressor\n",
    "# с параметрами (random_state=42, max_depth=10, n_estimators=10)\n",
    "\n",
    "rf_model = RandomForestRegressor(random_state=42, max_depth=10, n_estimators=10)\n",
    "rf_model.fit(X_train, y_train)\n",
    "\n",
    "train_predictions = rf_model.predict(X_train)\n",
    "test_predictions = rf_model.predict(X_test)\n",
    "\n",
    "#scores = cross_val_score(rf_model, X_train,y_train, cv=10, scoring='r2')\n",
    "#train_predictions = cross_val_predict(rf_model, X_train, y_train, cv=10)\n",
    "#test_predictions = cross_val_predict(rf_model, X_test, y_test, cv=10)\n",
    "    \n",
    "print('RF model')\n",
    "show_preds(y_train, train_predictions, y_test, test_predictions)"
   ]
  },
  {
   "cell_type": "markdown",
   "metadata": {},
   "source": [
    "### Подготовка тестовых данных:"
   ]
  },
  {
   "cell_type": "code",
   "execution_count": 34,
   "metadata": {},
   "outputs": [],
   "source": [
    "def data_preparation(test_data):\n",
    "    test_data = change_category_to_number(test_data)\n",
    "    test_data = set_share_values(test_data,'LifeSquare','Square')\n",
    "    test_data = replace_NaN_with_number(test_data)\n",
    "    test_data = set_value_from_zeros_to_values(test_data, 'Rooms',1)\n",
    "    test_data = delete_gross_values_rows(test_data,'Square',400)\n",
    "    test_data = set_value_from_values_to_zeros(test_data,'KitchenSquare', 123)\n",
    "    test_data = get_counter(test_data,'DistrictId','number_of_apartmens')\n",
    "    test_data = get_counter(test_data,'Rooms','number_of_rooms')\n",
    "    return test_data"
   ]
  },
  {
   "cell_type": "code",
   "execution_count": 35,
   "metadata": {},
   "outputs": [
    {
     "name": "stdout",
     "output_type": "stream",
     "text": [
      "<class 'pandas.core.frame.DataFrame'>\n",
      "Int64Index: 5000 entries, 0 to 4999\n",
      "Data columns (total 21 columns):\n",
      "Id                     5000 non-null int64\n",
      "DistrictId             5000 non-null int64\n",
      "Rooms                  5000 non-null float64\n",
      "Square                 5000 non-null float64\n",
      "LifeSquare             5000 non-null float64\n",
      "KitchenSquare          5000 non-null float64\n",
      "Floor                  5000 non-null int64\n",
      "HouseFloor             5000 non-null float64\n",
      "HouseYear              5000 non-null int64\n",
      "Ecology_1              5000 non-null float64\n",
      "Ecology_2              5000 non-null int64\n",
      "Ecology_3              5000 non-null int64\n",
      "Social_1               5000 non-null int64\n",
      "Social_2               5000 non-null int64\n",
      "Social_3               5000 non-null int64\n",
      "Healthcare_1           5000 non-null float64\n",
      "Helthcare_2            5000 non-null int64\n",
      "Shops_1                5000 non-null int64\n",
      "Shops_2                5000 non-null int64\n",
      "number_of_apartmens    5000 non-null int64\n",
      "number_of_rooms        5000 non-null int64\n",
      "dtypes: float64(7), int64(14)\n",
      "memory usage: 859.4 KB\n"
     ]
    }
   ],
   "source": [
    "test_data = data_preparation(test_data)\n",
    "\n",
    "test_data.info()"
   ]
  },
  {
   "cell_type": "code",
   "execution_count": 36,
   "metadata": {},
   "outputs": [],
   "source": [
    "test_data['Price'] = rf_model.predict(test_data)\n",
    "test_data.loc[:, ['Id','Price']].to_csv('VPodoynitsyn_predictions.csv', index=None)"
   ]
  },
  {
   "cell_type": "code",
   "execution_count": null,
   "metadata": {},
   "outputs": [],
   "source": []
  },
  {
   "cell_type": "code",
   "execution_count": null,
   "metadata": {},
   "outputs": [],
   "source": []
  }
 ],
 "metadata": {
  "kernelspec": {
   "display_name": "Python 3",
   "language": "python",
   "name": "python3"
  },
  "language_info": {
   "codemirror_mode": {
    "name": "ipython",
    "version": 3
   },
   "file_extension": ".py",
   "mimetype": "text/x-python",
   "name": "python",
   "nbconvert_exporter": "python",
   "pygments_lexer": "ipython3",
   "version": "3.7.3"
  }
 },
 "nbformat": 4,
 "nbformat_minor": 2
}
